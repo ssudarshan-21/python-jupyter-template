{
 "cells": [
  {
   "cell_type": "markdown",
   "metadata": {},
   "source": [
    "### Exercise 2: Bar Plot with Colors"
   ]
  },
  {
   "cell_type": "code",
   "execution_count": 3,
   "metadata": {},
   "outputs": [
    {
     "data": {
      "image/png": "[encoded data removed]",
      "text/plain": [
       "<Figure size 640x480 with 1 Axes>"
      ]
     },
     "metadata": {},
     "output_type": "display_data"
    }
   ],
   "source": [
    "# TASK: Create a bar plot with the following data: categories = ['A', 'B', 'C', 'D'] and values = [5, 7, 3, 9].\n",
    "# Use different colors for each bar and add a title to the plot.\n",
    "import matplotlib.pyplot as plt\n",
    "\n",
    "# Data\n",
    "categories = ['A', 'B', 'C', 'D']\n",
    "values = [5, 7, 3, 9]\n",
    "colors = ['red', 'blue', 'green', 'orange']\n",
    "\n",
    "# Error handling for mismatched lengths\n",
    "if len(categories) != len(values):\n",
    "    raise ValueError(f\"Length of categories: {len(categories)} and values: {len(values)} do not match. Both must have the same length.\")\n",
    "\n",
    "# Error handling for non-numeric data in values\n",
    "if not all(isinstance(i, (int, float)) for i in values):\n",
    "    raise TypeError(\"All values in the 'values' list must be numeric (either int or float).\")\n",
    "\n",
    "# Error handling for non-string data in categories\n",
    "if not all(isinstance(i, str) for i in categories):\n",
    "    raise TypeError(\"All values in the 'categories' list must be strings.\")\n",
    "\n",
    "# Error handling for color list length mismatch\n",
    "if len(colors) != len(categories):\n",
    "    raise ValueError(f\"Length of colors: {len(colors)} does not match the number of categories: {len(categories)}.\")\n",
    "\n",
    "# Create a bar plot\n",
    "plt.bar(categories, values, color=colors)\n",
    "\n",
    "# Labeling the axes and the plot\n",
    "plt.xlabel('Categories')\n",
    "plt.ylabel('Values')\n",
    "plt.title('Bar Plot')\n",
    "\n",
    "# Show the plot\n",
    "plt.show()"
   ]
  }
 ],
 "metadata": {
  "kernelspec": {
   "display_name": "Python 3",
   "language": "python",
   "name": "python3"
  },
  "language_info": {
   "codemirror_mode": {
    "name": "ipython",
    "version": 3
   },
   "file_extension": ".py",
   "mimetype": "text/x-python",
   "name": "python",
   "nbconvert_exporter": "python",
   "pygments_lexer": "ipython3",
   "version": "3.10.12"
  }
 },
 "nbformat": 4,
 "nbformat_minor": 2
}
